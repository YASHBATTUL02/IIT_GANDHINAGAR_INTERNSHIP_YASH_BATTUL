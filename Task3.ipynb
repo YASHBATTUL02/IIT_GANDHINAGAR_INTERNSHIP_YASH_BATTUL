{
  "nbformat": 4,
  "nbformat_minor": 0,
  "metadata": {
    "colab": {
      "name": "Task3.ipynb",
      "provenance": [],
      "collapsed_sections": [],
      "authorship_tag": "ABX9TyPE+S86MFkdZldC8OC2ZwrQ",
      "include_colab_link": true
    },
    "kernelspec": {
      "name": "python3",
      "display_name": "Python 3"
    },
    "language_info": {
      "name": "python"
    }
  },
  "cells": [
    {
      "cell_type": "markdown",
      "metadata": {
        "id": "view-in-github",
        "colab_type": "text"
      },
      "source": [
        "<a href=\"https://colab.research.google.com/github/YASHBATTUL02/IIT_GANDHINAGAR_INTERNSHIP_YASH_BATTUL/blob/main/Task3.ipynb\" target=\"_parent\"><img src=\"https://colab.research.google.com/assets/colab-badge.svg\" alt=\"Open In Colab\"/></a>"
      ]
    },
    {
      "cell_type": "markdown",
      "source": [
        "**Implement two hidden layers neural network classifier from scratch in JAX **"
      ],
      "metadata": {
        "id": "lztKFfgKLZMN"
      }
    },
    {
      "cell_type": "markdown",
      "source": [
        "Import packages\n",
        "We need JAX,\n",
        "\\\\JAX optimizers, the JAX version of Numpy and matplotlib for plottinG"
      ],
      "metadata": {
        "id": "Uo-fLNfcAijl"
      }
    },
    {
      "cell_type": "code",
      "execution_count": null,
      "metadata": {
        "colab": {
          "base_uri": "https://localhost:8080/"
        },
        "id": "-Wwc9Spr8Dvc",
        "outputId": "8c10c696-ce29-4db5-98ad-0ce686fcd998"
      },
      "outputs": [
        {
          "output_type": "stream",
          "name": "stderr",
          "text": [
            "/usr/local/lib/python3.7/dist-packages/jax/experimental/optimizers.py:30: FutureWarning: jax.experimental.optimizers is deprecated, import jax.example_libraries.optimizers instead\n",
            "  FutureWarning)\n"
          ]
        }
      ],
      "source": [
        "%matplotlib inline\n",
        "import jax\n",
        "import jax.numpy as jnp\n",
        "import jax.experimental.optimizers\n",
        "import matplotlib.pyplot as plt"
      ]
    },
    {
      "cell_type": "code",
      "source": [
        ""
      ],
      "metadata": {
        "id": "sHKeWfC8qlwo"
      },
      "execution_count": null,
      "outputs": []
    },
    {
      "cell_type": "markdown",
      "source": [
        "To reduce the dependencies on external tools to fetch the MNIST dataset here i directly used from Yann Lecun's website.....( USED AS REFERENCE ) IT IS EASY TO DOWNLOAD DATA \n"
      ],
      "metadata": {
        "id": "PoedIRDbA83C"
      }
    },
    {
      "cell_type": "code",
      "source": [
        "def fetch_mnist(directory:str=\"mnist_data\", redownload:bool=False):\n",
        "    \n",
        "    import os\n",
        "    directory = os.path.abspath(os.path.expanduser(directory))\n",
        "    os.makedirs(directory, exist_ok=True)\n",
        "    \n",
        "    if not redownload and os.path.exists(f'{directory}/train.npy') and os.path.exists(f'{directory}/test.npy'):\n",
        "        return jnp.load(f'{directory}/train.npy'), jnp.load(f'{directory}/test.npy')\n",
        "        \n",
        "    #>>>>>>>>>>>>>>>>>>>>>>>>>>>>>>>>>>>>>>>>\n",
        "    \n",
        "    from urllib.request import urlretrieve\n",
        "    if redownload or not os.path.exists(f'{directory}/train_images.gz'):\n",
        "        print(\"downloading train images from 'http://yann.lecun.com/exdb/mnist/train-images-idx3-ubyte.gz'\")\n",
        "        urlretrieve('http://yann.lecun.com/exdb/mnist/train-images-idx3-ubyte.gz', f'{directory}/train_images.gz')\n",
        "    if redownload or not os.path.exists(f'{directory}/train_labels.gz'):\n",
        "        print(\"downloading train labels from 'http://yann.lecun.com/exdb/mnist/train-labels-idx1-ubyte.gz'\")\n",
        "        urlretrieve('http://yann.lecun.com/exdb/mnist/train-labels-idx1-ubyte.gz', f'{directory}/train_labels.gz')\n",
        "    if redownload or not os.path.exists(f'{directory}/test_images.gz'):\n",
        "        print(\"downloading test images from 'http://yann.lecun.com/exdb/mnist/t10k-images-idx3-ubyte.gz'\")\n",
        "        urlretrieve('http://yann.lecun.com/exdb/mnist/t10k-images-idx3-ubyte.gz', f'{directory}/test_images.gz')\n",
        "    if redownload or not os.path.exists(f'{directory}/test_labels.gz'):\n",
        "        print(\"downloading test labels from 'http://yann.lecun.com/exdb/mnist/t10k-labels-idx1-ubyte.gz'\")\n",
        "        urlretrieve('http://yann.lecun.com/exdb/mnist/t10k-labels-idx1-ubyte.gz', f'{directory}/test_labels.gz')\n",
        "\n",
        "   \n",
        "   \n",
        "   \n",
        "   \n",
        "    # empty arrays to fill & use of standard numpy\n",
        "   \n",
        "    from numpy import empty, uint8\n",
        "    train = empty((80, 785), dtype=uint8)\n",
        "    test = empty((20, 785), dtype=uint8)\n",
        "    \n",
        "    print('converting .gz data to .npy')\n",
        "\n",
        "    import gzip                                                                #to compress the data \n",
        "    for type, npdata in [('train', train), ('test', test)]:\n",
        "        # open the files\n",
        "        with gzip.open(f'{directory}/%s_images.gz'%type, 'rb') as data,\\\n",
        "             gzip.open(f'{directory}/%s_labels.gz'%type, 'rb') as labels:\n",
        "\n",
        "            # skip the first bytes with metadata of the ubyte file:\n",
        "            data.read(16)\n",
        "            labels.read(8)\n",
        "\n",
        "            # read each byte of the gzip file and save it as a uint8 number\n",
        "            # in the numpy array.\n",
        "            for i in range(npdata.shape[0]):\n",
        "                npdata[i,0] = ord(labels.read(1))\n",
        "                for j in range(784): # append the data after the label\n",
        "                    npdata[i, j+1] = ord(data.read(1))\n",
        "                    \n",
        "    train = jax.device_put(train)\n",
        "    test = jax.device_put(test)\n",
        "\n",
        "    # save numpy arrays\n",
        "    jnp.save(f'{directory}/train.npy', train)\n",
        "    jnp.save(f'{directory}/test.npy', test)\n",
        "    \n",
        "    print('finished conversion.')\n",
        "\n",
        "    return train, test"
      ],
      "metadata": {
        "id": "JHpYlI_28H7G"
      },
      "execution_count": null,
      "outputs": []
    },
    {
      "cell_type": "markdown",
      "source": [
        "The image values are specified by integers between 0 and 255. \n",
        "We convert these pixel values to floats between 0 and 1. \n",
        "Moreover, we split the data in a training set of  images, a validation set of 80 images and a test set of 20 images"
      ],
      "metadata": {
        "id": "0Qo-P3Y_DX-k"
      }
    },
    {
      "cell_type": "code",
      "source": [
        "test_size, valid_size = 80,20\n",
        "train_data, test_data = fetch_mnist()\n",
        "data = jnp.vstack([train_data, test_data])\n",
        "train_data = data[:-test_size-valid_size]\n",
        "valid_data = data[-test_size-valid_size:-test_size]\n",
        "test_data  = data[-test_size:]\n",
        "train_size = train_data.shape[0]\n",
        "\n",
        "def get_values_labels(data):\n",
        "    labels = jnp.array(data[:,0], dtype=jnp.int32)\n",
        "    values = jnp.array(data[:,1:], dtype=jnp.float32)/255.0\n",
        "    return values, labels\n",
        "\n",
        "train_values, train_labels = get_values_labels(train_data)\n",
        "valid_values, valid_labels = get_values_labels(valid_data)\n",
        "test_values, test_labels = get_values_labels(test_data)\n",
        "num_pixels = train_values.shape[-1]\n",
        "num_labels = int(train_labels.max())+1\n",
        "\n",
        "print(f'train data shape:\\t{train_values.shape}')\n",
        "print(f'train labels shape:\\t{train_labels.shape}')"
      ],
      "metadata": {
        "colab": {
          "base_uri": "https://localhost:8080/"
        },
        "id": "NHQ3D_PC8O4y",
        "outputId": "fcb9cde4-0342-4866-8cfa-f71c6a7cadda"
      },
      "execution_count": null,
      "outputs": [
        {
          "output_type": "stream",
          "name": "stdout",
          "text": [
            "train data shape:\t(69900, 784)\n",
            "train labels shape:\t(69900,)\n"
          ]
        }
      ]
    },
    {
      "cell_type": "code",
      "source": [
        "def show_digit(digit_array):\n",
        "    plt.imshow(digit_array.reshape(28, 28), cmap='Greys')\n",
        "    plt.xticks([])\n",
        "    plt.yticks([])\n",
        "    plt.show()\n",
        "    \n",
        "show_digit(train_values[20])"
      ],
      "metadata": {
        "colab": {
          "base_uri": "https://localhost:8080/",
          "height": 252
        },
        "id": "Lh8UH-sY8iE8",
        "outputId": "3f77a7b8-21fd-48df-ef1d-2ea47a1f386f"
      },
      "execution_count": null,
      "outputs": [
        {
          "output_type": "display_data",
          "data": {
            "text/plain": [
              "<Figure size 432x288 with 1 Axes>"
            ],
            "image/png": "[encoded data removed]"
          },
          "metadata": {}
        }
      ]
    },
    {
      "cell_type": "markdown",
      "source": [
        "Random number generator"
      ],
      "metadata": {
        "id": "cTTdZl18GvcI"
      }
    },
    {
      "cell_type": "code",
      "source": [
        "prng = jax.random.PRNGKey(32)"
      ],
      "metadata": {
        "id": "c1Rn4Y349UEm"
      },
      "execution_count": null,
      "outputs": []
    },
    {
      "cell_type": "code",
      "source": [
        "prng, key = jax.random.split(prng, 2)\n",
        "jax.random.normal(key, (3,3))"
      ],
      "metadata": {
        "colab": {
          "base_uri": "https://localhost:8080/"
        },
        "id": "xbjYAWAO9VuN",
        "outputId": "fb96a45a-c119-4702-c807-69a160f00136"
      },
      "execution_count": null,
      "outputs": [
        {
          "output_type": "execute_result",
          "data": {
            "text/plain": [
              "DeviceArray([[-0.04187232,  1.7136184 ,  0.8067488 ],\n",
              "             [-0.30050832, -0.55049413, -0.14928241],\n",
              "             [-0.9825231 , -0.12566416,  0.7751663 ]], dtype=float32)"
            ]
          },
          "metadata": {},
          "execution_count": 46
        }
      ]
    },
    {
      "cell_type": "markdown",
      "source": [
        "Model a simple three layer fully connected neural network."
      ],
      "metadata": {
        "id": "NPhNOErFHfhk"
      }
    },
    {
      "cell_type": "code",
      "source": [
        "prng, w1key, b1key, w2key, b2key, w3key, b3key = jax.random.split(prng, 7)\n",
        "num_hidden1 = 200\n",
        "num_hidden2 = 150\n",
        "params = dict(\n",
        "    w1 = 1e-2*jax.random.normal(w1key, (num_pixels, num_hidden1)),\n",
        "    b1 = 1e-2*jax.random.normal(b1key, (1, num_hidden1)),\n",
        "    w2 = 1e-2*jax.random.normal(w2key, (num_hidden1, num_hidden2)),\n",
        "    b2 = 1e-2*jax.random.normal(b2key, (1, num_hidden2)),\n",
        "    w3 = 1e-2*jax.random.normal(w3key, (num_hidden2, num_labels)),\n",
        "    b3 = 1e-2*jax.random.normal(b3key, (1, num_labels)),\n",
        ")"
      ],
      "metadata": {
        "id": "dKhIclkr-AWi"
      },
      "execution_count": null,
      "outputs": []
    },
    {
      "cell_type": "code",
      "source": [
        "@jax.jit\n",
        "def forward(params, x):\n",
        "    x = jax.nn.relu(x@params[\"w1\"] + params[\"b1\"])\n",
        "    x = jax.nn.relu(x@params[\"w2\"] + params[\"b2\"])      \n",
        "    x = x@params[\"w3\"] + params[\"b3\"]\n",
        "    return x"
      ],
      "metadata": {
        "id": "-e6n0SUO-Ef3"
      },
      "execution_count": null,
      "outputs": []
    },
    {
      "cell_type": "markdown",
      "source": [
        "train data"
      ],
      "metadata": {
        "id": "m2LeorYuH_v0"
      }
    },
    {
      "cell_type": "code",
      "source": [
        "@jax.jit\n",
        "def train_step(step, optim_state, x, y):\n",
        "    params = optim_params(optim_state)\n",
        "    loss, grads = jax.value_and_grad(lossforward)(params, x, y)\n",
        "    optim_state = optim_update(step, grads, optim_state)\n",
        "    return loss, optim_state\n",
        "    "
      ],
      "metadata": {
        "id": "4atq_gfQ-fyU"
      },
      "execution_count": null,
      "outputs": []
    },
    {
      "cell_type": "code",
      "source": [
        "history = []\n",
        "batch_size = 100\n",
        "num_steps = 500\n",
        "for step in range(num_steps):\n",
        "    if step%200 == 0 or step == num_steps - 1:\n",
        "        valid_logits = forward(optim_params(optim_state), valid_values)\n",
        "        valid_loss = xeloss(valid_logits, valid_labels)\n",
        "        valid_accuracy = accuracy(valid_logits, valid_labels)\n",
        "        history.append((step, valid_loss, valid_accuracy))\n",
        "        print(f\"Step {step:5.0f}\\t Valid. Acc. = {valid_accuracy:5.2f}\")\n",
        "    prng, key = jax.random.split(prng)\n",
        "    idxs = jax.random.randint(key, (batch_size,), 0, train_size)\n",
        "    x = train_values[idxs]\n",
        "    y = train_labels[idxs]\n",
        "    loss, optim_state = train_step(step, optim_state, x, y)"
      ],
      "metadata": {
        "colab": {
          "base_uri": "https://localhost:8080/"
        },
        "id": "UAOCQUH5-lOf",
        "outputId": "b933be27-2500-4a64-f764-ee418b68c079"
      },
      "execution_count": null,
      "outputs": [
        {
          "output_type": "stream",
          "name": "stdout",
          "text": [
            "Step     0\t Valid. Acc. = 100.00\n",
            "Step   200\t Valid. Acc. = 100.00\n",
            "Step   400\t Valid. Acc. = 100.00\n",
            "Step   499\t Valid. Acc. = 100.00\n"
          ]
        }
      ]
    },
    {
      "cell_type": "code",
      "source": [
        "steps, loss, acc = zip(*history)\n",
        "\n",
        "fig, ax_loss = plt.subplots()\n",
        "ax_acc = ax_loss.twinx()\n",
        "\n",
        "plt.sca(ax_acc)\n",
        "plt.plot(steps, acc, '-o', color='C1')\n",
        "plt.ylabel('Accuracy [%]', color='C1');\n",
        "plt.tick_params('y', colors='C1')\n",
        "plt.ylim(90,100)\n",
        "plt.yticks([90,95,100])\n",
        "\n",
        "plt.sca(ax_loss)\n",
        "plt.plot(steps, loss, '-o', color='C0')\n",
        "plt.ylabel('Log Loss', color='C0');\n",
        "plt.tick_params('y', colors='C0')\n",
        "m = 1.1*max(loss)\n",
        "plt.ylim(0.01, 0.3)\n",
        "\n",
        "plt.xlim(0, (max(steps)+100)//100*100)\n",
        "plt.xlabel('Training Steps')\n",
        "plt.title(' Loss / Iterations')\n",
        "plt.show()"
      ],
      "metadata": {
        "colab": {
          "base_uri": "https://localhost:8080/",
          "height": 295
        },
        "id": "NOpYdBqx-ocG",
        "outputId": "46a4e2a2-b25f-461d-a040-33c0c78acc0a"
      },
      "execution_count": null,
      "outputs": [
        {
          "output_type": "display_data",
          "data": {
            "text/plain": [
              "<Figure size 432x288 with 2 Axes>"
            ],
            "image/png": "[encoded data removed]"
          },
          "metadata": {}
        }
      ]
    },
    {
      "cell_type": "markdown",
      "source": [
        "Test"
      ],
      "metadata": {
        "id": "HXAtTBbSJtHT"
      }
    },
    {
      "cell_type": "code",
      "source": [
        "params = optim_params(optim_state)\n",
        "test_logits = forward(params, test_values)\n",
        "test_accuracy = accuracy(test_logits, test_labels)\n",
        "print(f'Test Accuracy = {test_accuracy:5.2f}')"
      ],
      "metadata": {
        "colab": {
          "base_uri": "https://localhost:8080/"
        },
        "id": "3OGkq3XP-pSm",
        "outputId": "8687487f-f01b-4cde-b9d4-cc5aa9e54ae5"
      },
      "execution_count": null,
      "outputs": [
        {
          "output_type": "stream",
          "name": "stdout",
          "text": [
            "Test Accuracy = 98.75\n"
          ]
        }
      ]
    }
  ]
}
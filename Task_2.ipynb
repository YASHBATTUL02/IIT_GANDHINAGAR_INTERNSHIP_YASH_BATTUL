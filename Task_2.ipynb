{
  "cells": [
    {
      "cell_type": "markdown",
      "metadata": {
        "id": "view-in-github",
        "colab_type": "text"
      },
      "source": [
        "<a href=\"https://colab.research.google.com/github/YASHBATTUL02/IIT_GANDHINAGAR_INTERNSHIP_YASH_BATTUL/blob/main/Task_2.ipynb\" target=\"_parent\"><img src=\"https://colab.research.google.com/assets/colab-badge.svg\" alt=\"Open In Colab\"/></a>"
      ]
    },
    {
      "cell_type": "markdown",
      "source": [
        "**Implement from scratch a sampling method to draw samples from a multivariate Normal (MVN) distribution in JAX**"
      ],
      "metadata": {
        "id": "XNMvUl9hoEDJ"
      }
    },
    {
      "cell_type": "code",
      "execution_count": null,
      "metadata": {
        "colab": {
          "base_uri": "https://localhost:8080/"
        },
        "id": "dAAb_F-LfkQx",
        "outputId": "9e992390-2044-45e8-e6f5-4c12a70fbde6"
      },
      "outputs": [
        {
          "output_type": "stream",
          "name": "stderr",
          "text": [
            "WARNING:absl:No GPU/TPU found, falling back to CPU. (Set TF_CPP_MIN_LOG_LEVEL=0 and rerun for more info.)\n"
          ]
        },
        {
          "output_type": "execute_result",
          "data": {
            "text/plain": [
              "DeviceArray([[ 0.1332241 ,  0.4563983 ,  0.07023439],\n",
              "             [-0.20833635,  0.34949082, -0.12313312],\n",
              "             [-0.14895386, -0.44559026,  0.9238909 ]], dtype=float32)"
            ]
          },
          "metadata": {},
          "execution_count": 1
        }
      ],
      "source": [
        "import jax\n",
        "import jax.numpy as jnp\n",
        "import numpy as mp\n",
        "import jax.random\n",
        "\n",
        "key= jax.random.PRNGKey(0)\n",
        "cov= jax.random.uniform(key,[3,3])    #here the challenging task in sampling is that if the mean and the cov are set above the (3,3) the output is shown as NAN in the [3*3] matrix form\n",
        "mean =jax.random.uniform(key,[3,3])   #if the matrix is under (3,3 ) in the output random number is generated in the array form \n",
        "x1=jax.random.multivariate_normal(key,mean,cov)\n",
        "x1\n"
      ]
    }
  ],
  "metadata": {
    "colab": {
      "name": "Task 2.ipynb",
      "provenance": [],
      "collapsed_sections": [],
      "authorship_tag": "ABX9TyOHwxSA9yUV3VnuCZRAzWqp",
      "include_colab_link": true
    },
    "kernelspec": {
      "display_name": "Python 3",
      "name": "python3"
    },
    "language_info": {
      "name": "python"
    }
  },
  "nbformat": 4,
  "nbformat_minor": 0
}